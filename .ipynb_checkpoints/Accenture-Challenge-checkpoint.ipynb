{
 "cells": [
  {
   "cell_type": "code",
   "execution_count": 1,
   "id": "bfb33c25-ec99-4142-a62b-cf502db955d3",
   "metadata": {},
   "outputs": [],
   "source": [
    "import numpy as np\n",
    "import pandas as pd\n",
    "\n",
    "from sklearn.model_selection import train_test_split\n",
    "from sklearn.preprocessing import OrdinalEncoder, LabelEncoder\n",
    "from sklearn.ensemble import GradientBoostingClassifier\n",
    "\n",
    "from sklearn.feature_selection import SelectKBest\n",
    "from sklearn.feature_selection import chi2, mutual_info_classif\n",
    "\n",
    "from sklearn.metrics import accuracy_score\n",
    "from sklearn.metrics import f1_score\n",
    "from sklearn.metrics import confusion_matrix\n",
    "\n",
    "import imblearn\n",
    "\n",
    "from matplotlib import pyplot\n",
    "import matplotlib.pyplot as plt"
   ]
  },
  {
   "cell_type": "markdown",
   "id": "aaca1356-ca09-4875-88aa-4294750754a2",
   "metadata": {},
   "source": [
    "### Utility functions"
   ]
  },
  {
   "cell_type": "code",
   "execution_count": 3,
   "id": "90292a68-4815-47d4-9d21-e95e845c68b2",
   "metadata": {},
   "outputs": [],
   "source": [
    "def load_dataset(filename, feature_columns):\n",
    "    data = pd.read_csv(filename)\n",
    "    \n",
    "     # maybe we need more columns \n",
    "    prediction_columns = ['impact']\n",
    "    \n",
    "    X = data[feature_columns].values\n",
    "    y = data[prediction_columns].values\n",
    "    \n",
    "    X = X.astype(str)\n",
    "    y = y.astype(str)\n",
    "    return X, y\n",
    "\n",
    "def prepare_inputs(X_train, X_test):\n",
    "    oe = OrdinalEncoder(handle_unknown='use_encoded_value', unknown_value=-1)\n",
    "    oe.fit(X_train)\n",
    "    X_train_enc = oe.transform(X_train)\n",
    "    X_test_enc = oe.transform(X_test)\n",
    "    return X_train_enc, X_test_enc\n",
    "\n",
    "def prepare_targets(y_train, y_test):\n",
    "    le = LabelEncoder()\n",
    "    le.fit(y_train)\n",
    "    y_train_enc = le.transform(y_train)\n",
    "    y_test_enc = le.transform(y_test)\n",
    "    return y_train_enc, y_test_enc\n",
    "\n",
    "def select_features(X_train, y_train, X_test, k):\n",
    "    fs = SelectKBest(score_func=chi2, k=k)\n",
    "    # fs = SelectKBest(score_func=mutual_info_classif, k='all')\n",
    "    fs.fit(X_train, y_train)\n",
    "    X_train_fs = fs.transform(X_train)\n",
    "    X_test_fs = fs.transform(X_test)\n",
    "    return X_train_fs, X_test_fs, fs\n",
    "\n",
    "def compute_class_accuracy(y_test_enc, yhat):\n",
    "    matrix = confusion_matrix(y_test_enc, yhat)\n",
    "    print(matrix.diagonal()/matrix.sum(axis=1))"
   ]
  },
  {
   "cell_type": "markdown",
   "id": "de65f1c0-95c2-4d33-860a-428b1739f185",
   "metadata": {},
   "source": [
    "### Dataset\n",
    "Split data into training and testing part. \n",
    "Due to the imbalance of classes (over 90% of the dataset belongs to one class) we will adjust by undersampling the training set."
   ]
  },
  {
   "cell_type": "code",
   "execution_count": 38,
   "id": "09c0307c-7ea1-43e5-a441-4ce1b98323cd",
   "metadata": {},
   "outputs": [
    {
     "data": {
      "text/html": [
       "<div>\n",
       "<style scoped>\n",
       "    .dataframe tbody tr th:only-of-type {\n",
       "        vertical-align: middle;\n",
       "    }\n",
       "\n",
       "    .dataframe tbody tr th {\n",
       "        vertical-align: top;\n",
       "    }\n",
       "\n",
       "    .dataframe thead th {\n",
       "        text-align: right;\n",
       "    }\n",
       "</style>\n",
       "<table border=\"1\" class=\"dataframe\">\n",
       "  <thead>\n",
       "    <tr style=\"text-align: right;\">\n",
       "      <th></th>\n",
       "      <th>ID</th>\n",
       "      <th>ID_status</th>\n",
       "      <th>active</th>\n",
       "      <th>count_reassign</th>\n",
       "      <th>count_opening</th>\n",
       "      <th>count_updated</th>\n",
       "      <th>ID_caller</th>\n",
       "      <th>opened_by</th>\n",
       "      <th>opened_time</th>\n",
       "      <th>Created_by</th>\n",
       "      <th>...</th>\n",
       "      <th>category_ID</th>\n",
       "      <th>user_symptom</th>\n",
       "      <th>Support_group</th>\n",
       "      <th>support_incharge</th>\n",
       "      <th>Doc_knowledge</th>\n",
       "      <th>confirmation_check</th>\n",
       "      <th>impact</th>\n",
       "      <th>notify</th>\n",
       "      <th>problem_ID</th>\n",
       "      <th>change_request</th>\n",
       "    </tr>\n",
       "  </thead>\n",
       "  <tbody>\n",
       "    <tr>\n",
       "      <th>0</th>\n",
       "      <td>INC0000045</td>\n",
       "      <td>New</td>\n",
       "      <td>True</td>\n",
       "      <td>0</td>\n",
       "      <td>0</td>\n",
       "      <td>0</td>\n",
       "      <td>Caller 2403</td>\n",
       "      <td>Opened by  8</td>\n",
       "      <td>29-02-2016 01:16</td>\n",
       "      <td>Created by 6</td>\n",
       "      <td>...</td>\n",
       "      <td>Category 55</td>\n",
       "      <td>Symptom 72</td>\n",
       "      <td>Group 56</td>\n",
       "      <td>?</td>\n",
       "      <td>True</td>\n",
       "      <td>False</td>\n",
       "      <td>2 - Medium</td>\n",
       "      <td>Do Not Notify</td>\n",
       "      <td>?</td>\n",
       "      <td>?</td>\n",
       "    </tr>\n",
       "    <tr>\n",
       "      <th>1</th>\n",
       "      <td>INC0000045</td>\n",
       "      <td>Resolved</td>\n",
       "      <td>True</td>\n",
       "      <td>0</td>\n",
       "      <td>0</td>\n",
       "      <td>3</td>\n",
       "      <td>Caller 2403</td>\n",
       "      <td>Opened by  8</td>\n",
       "      <td>29-02-2016 01:16</td>\n",
       "      <td>Created by 6</td>\n",
       "      <td>...</td>\n",
       "      <td>Category 55</td>\n",
       "      <td>Symptom 72</td>\n",
       "      <td>Group 56</td>\n",
       "      <td>?</td>\n",
       "      <td>True</td>\n",
       "      <td>False</td>\n",
       "      <td>2 - Medium</td>\n",
       "      <td>Do Not Notify</td>\n",
       "      <td>?</td>\n",
       "      <td>?</td>\n",
       "    </tr>\n",
       "    <tr>\n",
       "      <th>2</th>\n",
       "      <td>INC0000045</td>\n",
       "      <td>Closed</td>\n",
       "      <td>False</td>\n",
       "      <td>0</td>\n",
       "      <td>0</td>\n",
       "      <td>4</td>\n",
       "      <td>Caller 2403</td>\n",
       "      <td>Opened by  8</td>\n",
       "      <td>29-02-2016 01:16</td>\n",
       "      <td>Created by 6</td>\n",
       "      <td>...</td>\n",
       "      <td>Category 55</td>\n",
       "      <td>Symptom 72</td>\n",
       "      <td>Group 56</td>\n",
       "      <td>?</td>\n",
       "      <td>True</td>\n",
       "      <td>False</td>\n",
       "      <td>2 - Medium</td>\n",
       "      <td>Do Not Notify</td>\n",
       "      <td>?</td>\n",
       "      <td>?</td>\n",
       "    </tr>\n",
       "    <tr>\n",
       "      <th>3</th>\n",
       "      <td>INC0000047</td>\n",
       "      <td>Active</td>\n",
       "      <td>True</td>\n",
       "      <td>1</td>\n",
       "      <td>0</td>\n",
       "      <td>1</td>\n",
       "      <td>Caller 2403</td>\n",
       "      <td>Opened by  397</td>\n",
       "      <td>29-02-2016 04:40</td>\n",
       "      <td>Created by 171</td>\n",
       "      <td>...</td>\n",
       "      <td>Category 40</td>\n",
       "      <td>Symptom 471</td>\n",
       "      <td>Group 24</td>\n",
       "      <td>Resolver 31</td>\n",
       "      <td>True</td>\n",
       "      <td>False</td>\n",
       "      <td>2 - Medium</td>\n",
       "      <td>Do Not Notify</td>\n",
       "      <td>?</td>\n",
       "      <td>?</td>\n",
       "    </tr>\n",
       "    <tr>\n",
       "      <th>4</th>\n",
       "      <td>INC0000047</td>\n",
       "      <td>Active</td>\n",
       "      <td>True</td>\n",
       "      <td>1</td>\n",
       "      <td>0</td>\n",
       "      <td>2</td>\n",
       "      <td>Caller 2403</td>\n",
       "      <td>Opened by  397</td>\n",
       "      <td>29-02-2016 04:40</td>\n",
       "      <td>Created by 171</td>\n",
       "      <td>...</td>\n",
       "      <td>Category 40</td>\n",
       "      <td>Symptom 471</td>\n",
       "      <td>Group 24</td>\n",
       "      <td>Resolver 31</td>\n",
       "      <td>True</td>\n",
       "      <td>False</td>\n",
       "      <td>2 - Medium</td>\n",
       "      <td>Do Not Notify</td>\n",
       "      <td>?</td>\n",
       "      <td>?</td>\n",
       "    </tr>\n",
       "  </tbody>\n",
       "</table>\n",
       "<p>5 rows × 25 columns</p>\n",
       "</div>"
      ],
      "text/plain": [
       "           ID ID_status  active  count_reassign  count_opening  count_updated  \\\n",
       "0  INC0000045       New    True               0              0              0   \n",
       "1  INC0000045  Resolved    True               0              0              3   \n",
       "2  INC0000045    Closed   False               0              0              4   \n",
       "3  INC0000047    Active    True               1              0              1   \n",
       "4  INC0000047    Active    True               1              0              2   \n",
       "\n",
       "     ID_caller       opened_by       opened_time      Created_by  ...  \\\n",
       "0  Caller 2403    Opened by  8  29-02-2016 01:16    Created by 6  ...   \n",
       "1  Caller 2403    Opened by  8  29-02-2016 01:16    Created by 6  ...   \n",
       "2  Caller 2403    Opened by  8  29-02-2016 01:16    Created by 6  ...   \n",
       "3  Caller 2403  Opened by  397  29-02-2016 04:40  Created by 171  ...   \n",
       "4  Caller 2403  Opened by  397  29-02-2016 04:40  Created by 171  ...   \n",
       "\n",
       "   category_ID user_symptom Support_group support_incharge Doc_knowledge  \\\n",
       "0  Category 55   Symptom 72      Group 56                ?          True   \n",
       "1  Category 55   Symptom 72      Group 56                ?          True   \n",
       "2  Category 55   Symptom 72      Group 56                ?          True   \n",
       "3  Category 40  Symptom 471      Group 24      Resolver 31          True   \n",
       "4  Category 40  Symptom 471      Group 24      Resolver 31          True   \n",
       "\n",
       "  confirmation_check      impact         notify problem_ID  change_request  \n",
       "0              False  2 - Medium  Do Not Notify          ?               ?  \n",
       "1              False  2 - Medium  Do Not Notify          ?               ?  \n",
       "2              False  2 - Medium  Do Not Notify          ?               ?  \n",
       "3              False  2 - Medium  Do Not Notify          ?               ?  \n",
       "4              False  2 - Medium  Do Not Notify          ?               ?  \n",
       "\n",
       "[5 rows x 25 columns]"
      ]
     },
     "execution_count": 38,
     "metadata": {},
     "output_type": "execute_result"
    }
   ],
   "source": [
    "df = pd.read_csv('data.csv')\n",
    "df.drop(columns=['Unnamed: 0'], inplace=True)\n",
    "df.head()\n"
   ]
  },
  {
   "cell_type": "code",
   "execution_count": 62,
   "id": "b81dfa89-7762-4362-998e-57b9e301d4f9",
   "metadata": {},
   "outputs": [
    {
     "name": "stdout",
     "output_type": "stream",
     "text": [
      "Train (59518, 8) (59518, 1)\n",
      "Test (39680, 8) (39680, 1)\n",
      " [ 1480 56414  1624]\n",
      " [1480 1480 1480]\n"
     ]
    }
   ],
   "source": [
    "feature_columns = [\n",
    "        'location',\n",
    "        'count_reassign',\n",
    "        'count_opening',\n",
    "        'count_updated',\n",
    "        'category_ID',\n",
    "        'opened_time',\n",
    "        'user_symptom',\n",
    "        'updated_at'\n",
    "    ]\n",
    "X, y = load_dataset('data.csv', feature_columns)\n",
    "\n",
    "X_train, X_test, y_train, y_test = train_test_split(X, y, test_size=0.40, random_state=1)\n",
    "# Summary of train and test\n",
    "print('Train', X_train.shape, y_train.shape)\n",
    "print('Test', X_test.shape, y_test.shape)\n",
    "\n",
    "print(f\" {np.unique(y_train, return_counts=True)[1]}\")\n",
    "\n",
    "## Resampling\n",
    "from imblearn.under_sampling import RandomUnderSampler\n",
    "undersample = RandomUnderSampler(sampling_strategy='auto')\n",
    "X_train, y_train = undersample.fit_resample(X_train, y_train)\n",
    "print(f\" {np.unique(y_train, return_counts=True)[1]}\")"
   ]
  },
  {
   "cell_type": "markdown",
   "id": "1cd2c223-207d-4830-957a-600b943f3455",
   "metadata": {},
   "source": [
    "### Processing\n",
    "We process and encode the features"
   ]
  },
  {
   "cell_type": "code",
   "execution_count": 63,
   "id": "eb8eb581-cae3-4164-bc95-98b2ef129a03",
   "metadata": {},
   "outputs": [],
   "source": [
    "# Prepare features and select 2 best\n",
    "X_train_enc, X_test_enc = prepare_inputs(X_train, X_test)\n",
    "y_train_enc, y_test_enc = prepare_targets(y_train.ravel(), y_test.ravel())\n",
    "\n",
    "X_train_fs, X_test_fs, fs = select_features(X_train_enc, y_train_enc, X_test_enc, k=2)"
   ]
  },
  {
   "cell_type": "markdown",
   "id": "f8044608-ac00-4968-8ea7-6379386b1975",
   "metadata": {},
   "source": [
    "### Feature evaluation\n",
    "Perform chi-squared test for feature relevance.\n",
    "We can observe that there are two features that stand out w.r.t. to the others, and we'll use those to train the model."
   ]
  },
  {
   "cell_type": "code",
   "execution_count": null,
   "id": "8de9a090-9caf-4fae-83d2-da4cb336a14e",
   "metadata": {},
   "outputs": [],
   "source": []
  },
  {
   "cell_type": "code",
   "execution_count": 69,
   "id": "b940dd22-c024-457a-ba22-7981cfda37f4",
   "metadata": {},
   "outputs": [
    {
     "name": "stdout",
     "output_type": "stream",
     "text": [
      "Feature 0 location: 104.2799193054841\n",
      "Feature 1 count_reassign: 208.98965338851713\n",
      "Feature 2 count_opening: 3.7142857142857477\n",
      "Feature 3 count_updated: 2060.351754423202\n",
      "Feature 4 category_ID: 15.413571460344428\n",
      "Feature 5 opened_time: 27142.63013744786\n",
      "Feature 6 user_symptom: 2518.8940754283767\n",
      "Feature 7 updated_at: 14462.614459423225\n"
     ]
    },
    {
     "data": {
      "image/png": "[encoded data removed]",
      "text/plain": [
       "<Figure size 640x480 with 1 Axes>"
      ]
     },
     "metadata": {},
     "output_type": "display_data"
    }
   ],
   "source": [
    "for i in range(len(fs.scores_)):\n",
    "    print(f'Feature {i} {feature_columns[i]}: {fs.scores_[i]}')\n",
    "\n",
    "ax1 = plt.subplot()\n",
    "ax1.set_xticks(range(len(feature_columns)))\n",
    "ax1.set_xticklabels(feature_columns, rotation = 45, ha=\"right\")\n",
    "\n",
    "# plot the scores\n",
    "pyplot.bar([i for i in range(len(fs.scores_))], fs.scores_)\n",
    "pyplot.savefig('feature_relevance_chi_squared.png', bbox_inches=\"tight\")"
   ]
  },
  {
   "cell_type": "markdown",
   "id": "70f61263-67f6-4e87-871c-bf21fb51132d",
   "metadata": {},
   "source": [
    "### Model training\n",
    "We opt for GradientBoostedTrees as the model."
   ]
  },
  {
   "cell_type": "code",
   "execution_count": 8,
   "id": "8837c9ff-922d-438a-90a9-1b60dcbb8cff",
   "metadata": {},
   "outputs": [
    {
     "name": "stdout",
     "output_type": "stream",
     "text": [
      "0.8752016129032258\n",
      "[0.80809129 0.88274854 0.67518248]\n"
     ]
    }
   ],
   "source": [
    "# Gradient Boosted Trees\n",
    "clf = GradientBoostingClassifier(n_estimators=100, learning_rate=1.0,\n",
    "    max_depth=20, random_state=0).fit(X_train_enc, y_train_enc)\n",
    "print(clf.score(X_test_enc, y_test_enc))\n",
    "\n",
    "yhat = clf.predict(X_test_enc)\n",
    "compute_class_accuracy(y_test_enc, yhat)"
   ]
  },
  {
   "cell_type": "markdown",
   "id": "80aa7feb-54b6-4e90-8a77-ec58ee0a8c45",
   "metadata": {},
   "source": [
    "### Metrics\n",
    "To evaluate we compute the confusion matrix, class accuracies and F1 score."
   ]
  },
  {
   "cell_type": "code",
   "execution_count": 9,
   "id": "01806f17-59f3-40d5-967b-69568262fc7d",
   "metadata": {},
   "outputs": [
    {
     "data": {
      "text/plain": [
       "<sklearn.metrics._plot.confusion_matrix.ConfusionMatrixDisplay at 0x1ecddb03c70>"
      ]
     },
     "execution_count": 9,
     "metadata": {},
     "output_type": "execute_result"
    },
    {
     "data": {
      "image/png": "[encoded data removed]",
      "text/plain": [
       "<Figure size 640x480 with 2 Axes>"
      ]
     },
     "metadata": {},
     "output_type": "display_data"
    }
   ],
   "source": [
    "from sklearn.datasets import make_classification\n",
    "from sklearn.metrics import confusion_matrix, ConfusionMatrixDisplay\n",
    "\n",
    "cm = confusion_matrix(y_test_enc, yhat, labels=np.unique(y_test_enc))\n",
    "disp = ConfusionMatrixDisplay(confusion_matrix=cm, display_labels=np.unique(y_test_enc))\n",
    "disp.plot() "
   ]
  },
  {
   "cell_type": "code",
   "execution_count": 22,
   "id": "35acc61f-4754-4888-ab18-88f2684d821d",
   "metadata": {},
   "outputs": [
    {
     "name": "stdout",
     "output_type": "stream",
     "text": [
      "macro: 0.60\n",
      "micro: 0.88\n",
      "weighted: 0.91\n"
     ]
    }
   ],
   "source": [
    "score = f1_score(y_test_enc, yhat, average='weighted')\n",
    "print(f'weighted: {score:.2f}')"
   ]
  },
  {
   "cell_type": "markdown",
   "id": "ae88f874-43c4-42ac-9809-79a35237c73a",
   "metadata": {},
   "source": [
    "### Conclusion"
   ]
  },
  {
   "cell_type": "markdown",
   "id": "f13a43d3-6430-47d3-a48f-9856543d63f9",
   "metadata": {},
   "source": [
    "The goal is to detect incidents of high impact, such that they can be solved as soon as possible.\n",
    "The model correctly predicts the incidents with high accuracy over 80% of the time. While there are some false positives, the assumption is \n",
    "that it can be more costly to neglect the incidents of high importance, rather than detecting slightly more of them."
   ]
  }
 ],
 "metadata": {
  "kernelspec": {
   "display_name": "Python 3 (ipykernel)",
   "language": "python",
   "name": "python3"
  },
  "language_info": {
   "codemirror_mode": {
    "name": "ipython",
    "version": 3
   },
   "file_extension": ".py",
   "mimetype": "text/x-python",
   "name": "python",
   "nbconvert_exporter": "python",
   "pygments_lexer": "ipython3",
   "version": "3.9.10"
  }
 },
 "nbformat": 4,
 "nbformat_minor": 5
}
